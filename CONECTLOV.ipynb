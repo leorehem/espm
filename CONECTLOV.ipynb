{
  "nbformat": 4,
  "nbformat_minor": 0,
  "metadata": {
    "colab": {
      "provenance": [],
      "authorship_tag": "ABX9TyNDcVRT8wYDnngd+UwxbugS",
      "include_colab_link": true
    },
    "kernelspec": {
      "name": "python3",
      "display_name": "Python 3"
    },
    "language_info": {
      "name": "python"
    },
    "widgets": {
      "application/vnd.jupyter.widget-state+json": {
        "1c9e81631da04fc8b8fe5edd26b58de1": {
          "model_module": "@jupyter-widgets/controls",
          "model_name": "HTMLModel",
          "model_module_version": "1.5.0",
          "state": {
            "_dom_classes": [],
            "_model_module": "@jupyter-widgets/controls",
            "_model_module_version": "1.5.0",
            "_model_name": "HTMLModel",
            "_view_count": null,
            "_view_module": "@jupyter-widgets/controls",
            "_view_module_version": "1.5.0",
            "_view_name": "HTMLView",
            "description": "",
            "description_tooltip": null,
            "layout": "IPY_MODEL_1ff42f3bbf5e4531827a665335654b55",
            "placeholder": "​",
            "style": "IPY_MODEL_b87902a041e648a6acd7ff7e0e36b932",
            "value": "<b>**Pergunta 1:** Qual foi um momento recente em que você se sentiu incompreendido?</b>"
          }
        },
        "1ff42f3bbf5e4531827a665335654b55": {
          "model_module": "@jupyter-widgets/base",
          "model_name": "LayoutModel",
          "model_module_version": "1.2.0",
          "state": {
            "_model_module": "@jupyter-widgets/base",
            "_model_module_version": "1.2.0",
            "_model_name": "LayoutModel",
            "_view_count": null,
            "_view_module": "@jupyter-widgets/base",
            "_view_module_version": "1.2.0",
            "_view_name": "LayoutView",
            "align_content": null,
            "align_items": null,
            "align_self": null,
            "border": null,
            "bottom": null,
            "display": null,
            "flex": null,
            "flex_flow": null,
            "grid_area": null,
            "grid_auto_columns": null,
            "grid_auto_flow": null,
            "grid_auto_rows": null,
            "grid_column": null,
            "grid_gap": null,
            "grid_row": null,
            "grid_template_areas": null,
            "grid_template_columns": null,
            "grid_template_rows": null,
            "height": null,
            "justify_content": null,
            "justify_items": null,
            "left": null,
            "margin": null,
            "max_height": null,
            "max_width": null,
            "min_height": null,
            "min_width": null,
            "object_fit": null,
            "object_position": null,
            "order": null,
            "overflow": null,
            "overflow_x": null,
            "overflow_y": null,
            "padding": null,
            "right": null,
            "top": null,
            "visibility": null,
            "width": null
          }
        },
        "b87902a041e648a6acd7ff7e0e36b932": {
          "model_module": "@jupyter-widgets/controls",
          "model_name": "DescriptionStyleModel",
          "model_module_version": "1.5.0",
          "state": {
            "_model_module": "@jupyter-widgets/controls",
            "_model_module_version": "1.5.0",
            "_model_name": "DescriptionStyleModel",
            "_view_count": null,
            "_view_module": "@jupyter-widgets/base",
            "_view_module_version": "1.2.0",
            "_view_name": "StyleView",
            "description_width": ""
          }
        },
        "94c5dab072524045a9409ab2cbb05baa": {
          "model_module": "@jupyter-widgets/controls",
          "model_name": "TextareaModel",
          "model_module_version": "1.5.0",
          "state": {
            "_dom_classes": [],
            "_model_module": "@jupyter-widgets/controls",
            "_model_module_version": "1.5.0",
            "_model_name": "TextareaModel",
            "_view_count": null,
            "_view_module": "@jupyter-widgets/controls",
            "_view_module_version": "1.5.0",
            "_view_name": "TextareaView",
            "continuous_update": true,
            "description": "",
            "description_tooltip": null,
            "disabled": false,
            "layout": "IPY_MODEL_bbaffd4753484112935ea90b86638f44",
            "placeholder": "Digite sua resposta aqui...",
            "rows": null,
            "style": "IPY_MODEL_90dbc0f3f3dd49d88cdcf3f15293d20f",
            "value": ""
          }
        },
        "bbaffd4753484112935ea90b86638f44": {
          "model_module": "@jupyter-widgets/base",
          "model_name": "LayoutModel",
          "model_module_version": "1.2.0",
          "state": {
            "_model_module": "@jupyter-widgets/base",
            "_model_module_version": "1.2.0",
            "_model_name": "LayoutModel",
            "_view_count": null,
            "_view_module": "@jupyter-widgets/base",
            "_view_module_version": "1.2.0",
            "_view_name": "LayoutView",
            "align_content": null,
            "align_items": null,
            "align_self": null,
            "border": null,
            "bottom": null,
            "display": null,
            "flex": null,
            "flex_flow": null,
            "grid_area": null,
            "grid_auto_columns": null,
            "grid_auto_flow": null,
            "grid_auto_rows": null,
            "grid_column": null,
            "grid_gap": null,
            "grid_row": null,
            "grid_template_areas": null,
            "grid_template_columns": null,
            "grid_template_rows": null,
            "height": "150px",
            "justify_content": null,
            "justify_items": null,
            "left": null,
            "margin": null,
            "max_height": null,
            "max_width": null,
            "min_height": null,
            "min_width": null,
            "object_fit": null,
            "object_position": null,
            "order": null,
            "overflow": null,
            "overflow_x": null,
            "overflow_y": null,
            "padding": null,
            "right": null,
            "top": null,
            "visibility": null,
            "width": "100%"
          }
        },
        "90dbc0f3f3dd49d88cdcf3f15293d20f": {
          "model_module": "@jupyter-widgets/controls",
          "model_name": "DescriptionStyleModel",
          "model_module_version": "1.5.0",
          "state": {
            "_model_module": "@jupyter-widgets/controls",
            "_model_module_version": "1.5.0",
            "_model_name": "DescriptionStyleModel",
            "_view_count": null,
            "_view_module": "@jupyter-widgets/base",
            "_view_module_version": "1.2.0",
            "_view_name": "StyleView",
            "description_width": ""
          }
        },
        "033596fa02f44ff290147e685d600959": {
          "model_module": "@jupyter-widgets/controls",
          "model_name": "ButtonModel",
          "model_module_version": "1.5.0",
          "state": {
            "_dom_classes": [],
            "_model_module": "@jupyter-widgets/controls",
            "_model_module_version": "1.5.0",
            "_model_name": "ButtonModel",
            "_view_count": null,
            "_view_module": "@jupyter-widgets/controls",
            "_view_module_version": "1.5.0",
            "_view_name": "ButtonView",
            "button_style": "",
            "description": "Enviar",
            "disabled": false,
            "icon": "",
            "layout": "IPY_MODEL_37140b63b65f4fd8928e5bf7fe7b7ee1",
            "style": "IPY_MODEL_d47506a94d9c44998944e61af81a7463",
            "tooltip": ""
          }
        },
        "37140b63b65f4fd8928e5bf7fe7b7ee1": {
          "model_module": "@jupyter-widgets/base",
          "model_name": "LayoutModel",
          "model_module_version": "1.2.0",
          "state": {
            "_model_module": "@jupyter-widgets/base",
            "_model_module_version": "1.2.0",
            "_model_name": "LayoutModel",
            "_view_count": null,
            "_view_module": "@jupyter-widgets/base",
            "_view_module_version": "1.2.0",
            "_view_name": "LayoutView",
            "align_content": null,
            "align_items": null,
            "align_self": null,
            "border": null,
            "bottom": null,
            "display": null,
            "flex": null,
            "flex_flow": null,
            "grid_area": null,
            "grid_auto_columns": null,
            "grid_auto_flow": null,
            "grid_auto_rows": null,
            "grid_column": null,
            "grid_gap": null,
            "grid_row": null,
            "grid_template_areas": null,
            "grid_template_columns": null,
            "grid_template_rows": null,
            "height": null,
            "justify_content": null,
            "justify_items": null,
            "left": null,
            "margin": null,
            "max_height": null,
            "max_width": null,
            "min_height": null,
            "min_width": null,
            "object_fit": null,
            "object_position": null,
            "order": null,
            "overflow": null,
            "overflow_x": null,
            "overflow_y": null,
            "padding": null,
            "right": null,
            "top": null,
            "visibility": null,
            "width": null
          }
        },
        "d47506a94d9c44998944e61af81a7463": {
          "model_module": "@jupyter-widgets/controls",
          "model_name": "ButtonStyleModel",
          "model_module_version": "1.5.0",
          "state": {
            "_model_module": "@jupyter-widgets/controls",
            "_model_module_version": "1.5.0",
            "_model_name": "ButtonStyleModel",
            "_view_count": null,
            "_view_module": "@jupyter-widgets/base",
            "_view_module_version": "1.2.0",
            "_view_name": "StyleView",
            "button_color": null,
            "font_weight": ""
          }
        }
      }
    }
  },
  "cells": [
    {
      "cell_type": "markdown",
      "metadata": {
        "id": "view-in-github",
        "colab_type": "text"
      },
      "source": [
        "<a href=\"https://colab.research.google.com/github/leorehem/espm/blob/main/CONECTLOV.ipynb\" target=\"_parent\"><img src=\"https://colab.research.google.com/assets/colab-badge.svg\" alt=\"Open In Colab\"/></a>"
      ]
    },
    {
      "cell_type": "code",
      "execution_count": 1,
      "metadata": {
        "colab": {
          "base_uri": "https://localhost:8080/",
          "height": 436
        },
        "id": "FiqtIxtu8ciT",
        "outputId": "5646a86d-8a21-488c-bfc6-0d3d142e6583"
      },
      "outputs": [
        {
          "output_type": "display_data",
          "data": {
            "text/plain": [
              "<IPython.core.display.Markdown object>"
            ],
            "text/markdown": "**Bem-vindos ao Jogo de Reconexão**\nUma experiência interativa projetada para casais que desejam explorar sua relação, resolver conflitos e se reconectar de maneira genuína e profunda."
          },
          "metadata": {}
        },
        {
          "output_type": "display_data",
          "data": {
            "text/plain": [
              "<IPython.core.display.Markdown object>"
            ],
            "text/markdown": "### Fase 1 - Intenção e Convite"
          },
          "metadata": {}
        },
        {
          "name": "stdout",
          "output_type": "stream",
          "text": [
            "Envie um convite especial para seu parceiro(a): amigo vc quer jogar?\n"
          ]
        },
        {
          "output_type": "display_data",
          "data": {
            "text/plain": [
              "<IPython.core.display.Markdown object>"
            ],
            "text/markdown": "**Convite Enviado:** amigo vc quer jogar?"
          },
          "metadata": {}
        },
        {
          "name": "stdout",
          "output_type": "stream",
          "text": [
            "Seu parceiro(a) aceita o convite? (sim/nao): sim\n"
          ]
        },
        {
          "output_type": "display_data",
          "data": {
            "text/plain": [
              "<IPython.core.display.Markdown object>"
            ],
            "text/markdown": "**Convite Aceito!** Ambos se comprometem a participar com abertura e respeito."
          },
          "metadata": {}
        },
        {
          "name": "stdout",
          "output_type": "stream",
          "text": [
            "O que mais admira no seu parceiro(a)?: 1\n",
            "Uma lembrança especial juntos: beijo\n",
            "Algo que gostaria de melhorar juntos: conversas\n"
          ]
        },
        {
          "output_type": "display_data",
          "data": {
            "text/plain": [
              "<IPython.core.display.Markdown object>"
            ],
            "text/markdown": "**Motivações Registradas:**\n- Admiração: 1\n- Lembrança Especial: beijo\n- A Melhorar: conversas"
          },
          "metadata": {}
        },
        {
          "output_type": "display_data",
          "data": {
            "text/plain": [
              "<IPython.core.display.Markdown object>"
            ],
            "text/markdown": "**Compromissos Iniciais:**\n- Participar com sinceridade e empatia.\n- Respeitar o tempo de fala do outro.\n- Estar disposto(a) a ouvir, refletir e crescer juntos."
          },
          "metadata": {}
        },
        {
          "output_type": "display_data",
          "data": {
            "text/plain": [
              "<IPython.core.display.Markdown object>"
            ],
            "text/markdown": "**Parabéns!** Vocês completaram a Fase 1. Continuem para a Fase 2."
          },
          "metadata": {}
        }
      ],
      "source": [
        "# MVP do Jogo de Reconexão - Google Colab e Python\n",
        "\n",
        "# Etapa 1: Configuração Inicial\n",
        "# Instale bibliotecas necessárias (se aplicável)\n",
        "\n",
        "# Importando bibliotecas\n",
        "from IPython.display import display, Markdown\n",
        "\n",
        "def exibir_mensagem(mensagem):\n",
        "    display(Markdown(mensagem))\n",
        "\n",
        "# Introdução ao Jogo\n",
        "exibir_mensagem(\"**Bem-vindos ao Jogo de Reconexão**\\nUma experiência interativa projetada para casais que desejam explorar sua relação, resolver conflitos e se reconectar de maneira genuína e profunda.\")\n",
        "\n",
        "def fase1():\n",
        "    # Fase 1 - Intenção e Convite\n",
        "    exibir_mensagem(\"### Fase 1 - Intenção e Convite\")\n",
        "    convite = input(\"Envie um convite especial para seu parceiro(a): \")\n",
        "    exibir_mensagem(f\"**Convite Enviado:** {convite}\")\n",
        "\n",
        "    aceito = input(\"Seu parceiro(a) aceita o convite? (sim/nao): \")\n",
        "    if aceito.lower() == \"sim\":\n",
        "        exibir_mensagem(\"**Convite Aceito!** Ambos se comprometem a participar com abertura e respeito.\")\n",
        "\n",
        "        # Exploração de Motivações\n",
        "        admira = input(\"O que mais admira no seu parceiro(a)?: \")\n",
        "        lembranca = input(\"Uma lembrança especial juntos: \")\n",
        "        melhorar = input(\"Algo que gostaria de melhorar juntos: \")\n",
        "\n",
        "        exibir_mensagem(f\"**Motivações Registradas:**\\n- Admiração: {admira}\\n- Lembrança Especial: {lembranca}\\n- A Melhorar: {melhorar}\")\n",
        "        exibir_mensagem(\"**Compromissos Iniciais:**\\n- Participar com sinceridade e empatia.\\n- Respeitar o tempo de fala do outro.\\n- Estar disposto(a) a ouvir, refletir e crescer juntos.\")\n",
        "\n",
        "        return True\n",
        "    else:\n",
        "        exibir_mensagem(\"**Convite Recusado.** O jogo não pode prosseguir sem o compromisso mútuo.\")\n",
        "        return False\n",
        "\n",
        "# Início do Jogo\n",
        "if fase1():\n",
        "    exibir_mensagem(\"**Parabéns!** Vocês completaram a Fase 1. Continuem para a Fase 2.\")\n",
        "else:\n",
        "    exibir_mensagem(\"**Fim do Jogo.** Voltem quando ambos estiverem prontos.\")\n"
      ]
    },
    {
      "cell_type": "code",
      "source": [
        "# Fase 2 - Explorando Sentimentos e Verdades\n",
        "# Objetivo: Promover a expressão genuína de sentimentos, reconhecendo emoções e narrativas pessoais que impactam a relação.\n",
        "\n",
        "def fase2():\n",
        "    # Fase 2 - Explorando Sentimentos e Verdades\n",
        "    exibir_mensagem(\"### Fase 2 - Explorando Sentimentos e Verdades\")\n",
        "\n",
        "    # Momento de Reflexão Guiada (meditação curta de 1 minuto)\n",
        "    exibir_mensagem(\"Iniciaremos com uma meditação de 1 minuto. Feche os olhos e prepare-se para abrir seu coração. Relaxe e concentre-se na respiração.\")\n",
        "    input(\"Pressione Enter quando terminar a meditação...\")\n",
        "\n",
        "    # Compartilhando Verdades\n",
        "    exibir_mensagem(\"Agora, vamos compartilhar algumas verdades pessoais. Cada um de vocês responderá individualmente as perguntas abaixo e, em seguida, compartilhará com o parceiro(a).\")\n",
        "\n",
        "    algo_que_quero = input(\"Algo que eu gostaria que você entendesse sobre mim é: \")\n",
        "    desafio_pessoal = input(\"Uma coisa que eu reconheço como meu desafio pessoal na nossa relação é: \")\n",
        "    sentimento_amado = input(\"Algo que me faz sentir amado(a) por você é: \")\n",
        "\n",
        "    exibir_mensagem(f\"**Respostas Registradas:**\\n- Algo que gostaria que entendesse sobre mim: {algo_que_quero}\\n- Desafio pessoal na relação: {desafio_pessoal}\\n- Algo que me faz sentir amado(a): {sentimento_amado}\")\n",
        "\n",
        "    # Escuta Ativa\n",
        "    exibir_mensagem(\"Agora, cada um de vocês ouvirá o parceiro(a) sem interrupções. Após cada resposta, haverá um momento de reflexão guiada.\")\n",
        "    input(\"Pressione Enter para ouvir o parceiro(a)...\")\n",
        "\n",
        "    exibir_mensagem(\"Agora que ambos compartilharam, vamos refletir sobre o que foi dito. Aproveite este momento para realmente absorver o que foi compartilhado.\")\n",
        "    input(\"Pressione Enter quando terminar a reflexão...\")\n",
        "\n",
        "    # Reconhecimento Mútuo\n",
        "    qualidade_ou_gesto = input(\"Por favor, destaque uma qualidade ou gesto do seu parceiro(a) que mais aprecia: \")\n",
        "    exibir_mensagem(f\"**Reconhecimento Mútuo:** {qualidade_ou_gesto}\")\n",
        "\n",
        "    # Acordo de Respeito\n",
        "    exibir_mensagem(\"Ambos reforçam o compromisso de respeito mútuo, empatia e sinceridade ao longo das próximas fases.\")\n",
        "    compromisso = input(\"Ambos se comprometem a respeitar, ser empáticos e sinceros? (sim/nao): \")\n",
        "    if compromisso.lower() == \"sim\":\n",
        "        exibir_mensagem(\"**Compromisso Confirmado!** Vocês estão prontos para continuar o jogo com respeito e abertura.\")\n",
        "        return True\n",
        "    else:\n",
        "        exibir_mensagem(\"**Compromisso Não Confirmado.** O jogo não pode prosseguir sem o compromisso mútuo.\")\n",
        "        return False\n",
        "\n",
        "# Início da Fase 2\n",
        "if fase2():\n",
        "    exibir_mensagem(\"**Parabéns!** Vocês completaram a Fase 2. Continuem para a Fase 3.\")\n",
        "else:\n",
        "    exibir_mensagem(\"**Fim do Jogo.** Voltem quando ambos estiverem prontos para seguir em frente.\")\n"
      ],
      "metadata": {
        "colab": {
          "base_uri": "https://localhost:8080/",
          "height": 531
        },
        "id": "pJDciP2Z8xUh",
        "outputId": "2ab7ffc5-00b3-40f2-e12b-48136e2d1780"
      },
      "execution_count": 3,
      "outputs": [
        {
          "output_type": "display_data",
          "data": {
            "text/plain": [
              "<IPython.core.display.Markdown object>"
            ],
            "text/markdown": "### Fase 2 - Explorando Sentimentos e Verdades"
          },
          "metadata": {}
        },
        {
          "output_type": "display_data",
          "data": {
            "text/plain": [
              "<IPython.core.display.Markdown object>"
            ],
            "text/markdown": "Iniciaremos com uma meditação de 1 minuto. Feche os olhos e prepare-se para abrir seu coração. Relaxe e concentre-se na respiração."
          },
          "metadata": {}
        },
        {
          "name": "stdout",
          "output_type": "stream",
          "text": [
            "Pressione Enter quando terminar a meditação...OK\n"
          ]
        },
        {
          "output_type": "display_data",
          "data": {
            "text/plain": [
              "<IPython.core.display.Markdown object>"
            ],
            "text/markdown": "Agora, vamos compartilhar algumas verdades pessoais. Cada um de vocês responderá individualmente as perguntas abaixo e, em seguida, compartilhará com o parceiro(a)."
          },
          "metadata": {}
        },
        {
          "name": "stdout",
          "output_type": "stream",
          "text": [
            "Algo que eu gostaria que você entendesse sobre mim é: SOU BOM\n",
            "Uma coisa que eu reconheço como meu desafio pessoal na nossa relação é: VC EH CORAJOSO\n",
            "Algo que me faz sentir amado(a) por você é: TESAO\n"
          ]
        },
        {
          "output_type": "display_data",
          "data": {
            "text/plain": [
              "<IPython.core.display.Markdown object>"
            ],
            "text/markdown": "**Respostas Registradas:**\n- Algo que gostaria que entendesse sobre mim: SOU BOM\n- Desafio pessoal na relação: VC EH CORAJOSO\n- Algo que me faz sentir amado(a): TESAO"
          },
          "metadata": {}
        },
        {
          "output_type": "display_data",
          "data": {
            "text/plain": [
              "<IPython.core.display.Markdown object>"
            ],
            "text/markdown": "Agora, cada um de vocês ouvirá o parceiro(a) sem interrupções. Após cada resposta, haverá um momento de reflexão guiada."
          },
          "metadata": {}
        },
        {
          "name": "stdout",
          "output_type": "stream",
          "text": [
            "Pressione Enter para ouvir o parceiro(a)...\n"
          ]
        },
        {
          "output_type": "display_data",
          "data": {
            "text/plain": [
              "<IPython.core.display.Markdown object>"
            ],
            "text/markdown": "Agora que ambos compartilharam, vamos refletir sobre o que foi dito. Aproveite este momento para realmente absorver o que foi compartilhado."
          },
          "metadata": {}
        },
        {
          "name": "stdout",
          "output_type": "stream",
          "text": [
            "Pressione Enter quando terminar a reflexão...SINCERO\n",
            "Por favor, destaque uma qualidade ou gesto do seu parceiro(a) que mais aprecia: FORÇA\n"
          ]
        },
        {
          "output_type": "display_data",
          "data": {
            "text/plain": [
              "<IPython.core.display.Markdown object>"
            ],
            "text/markdown": "**Reconhecimento Mútuo:** FORÇA"
          },
          "metadata": {}
        },
        {
          "output_type": "display_data",
          "data": {
            "text/plain": [
              "<IPython.core.display.Markdown object>"
            ],
            "text/markdown": "Ambos reforçam o compromisso de respeito mútuo, empatia e sinceridade ao longo das próximas fases."
          },
          "metadata": {}
        },
        {
          "name": "stdout",
          "output_type": "stream",
          "text": [
            "Ambos se comprometem a respeitar, ser empáticos e sinceros? (sim/nao): SIM\n"
          ]
        },
        {
          "output_type": "display_data",
          "data": {
            "text/plain": [
              "<IPython.core.display.Markdown object>"
            ],
            "text/markdown": "**Compromisso Confirmado!** Vocês estão prontos para continuar o jogo com respeito e abertura."
          },
          "metadata": {}
        },
        {
          "output_type": "display_data",
          "data": {
            "text/plain": [
              "<IPython.core.display.Markdown object>"
            ],
            "text/markdown": "**Parabéns!** Vocês completaram a Fase 2. Continuem para a Fase 3."
          },
          "metadata": {}
        }
      ]
    },
    {
      "cell_type": "code",
      "source": [
        "from ipywidgets import widgets\n",
        "from IPython.display import display\n",
        "\n",
        "# Função para exibir mensagem formatada\n",
        "def exibir_mensagem(mensagem):\n",
        "    display(widgets.HTML(value=f\"<b>{mensagem}</b>\"))\n",
        "\n",
        "# Perguntas e respostas\n",
        "def fase3():\n",
        "    perguntas = [\n",
        "        \"Qual foi um momento recente em que você se sentiu incompreendido?\",\n",
        "        \"Que apoio você gostaria de ter recebido nos últimos tempos?\",\n",
        "        \"O que você mais valoriza na forma como o outro lida com desafios?\"\n",
        "    ]\n",
        "    respostas = []\n",
        "\n",
        "    def perguntar(pergunta_idx):\n",
        "        if pergunta_idx < len(perguntas):\n",
        "            pergunta = perguntas[pergunta_idx]\n",
        "            exibir_mensagem(f\"**Pergunta {pergunta_idx + 1}:** {pergunta}\")\n",
        "\n",
        "            input_box = widgets.Textarea(\n",
        "                placeholder='Digite sua resposta aqui...',\n",
        "                layout=widgets.Layout(width='100%', height='150px')\n",
        "            )\n",
        "            botao_enviar = widgets.Button(description='Enviar')\n",
        "            display(input_box, botao_enviar)\n",
        "\n",
        "            def ao_enviar(_):\n",
        "                resposta = input_box.value.strip()\n",
        "                if resposta:\n",
        "                    respostas.append(resposta)\n",
        "                    exibir_mensagem(f\"**Resposta registrada:** {resposta}\")\n",
        "                    input_box.close()\n",
        "                    botao_enviar.close()\n",
        "                    perguntar(pergunta_idx + 1)\n",
        "                else:\n",
        "                    exibir_mensagem(\"Por favor, insira uma resposta antes de continuar.\")\n",
        "\n",
        "            botao_enviar.on_click(ao_enviar)\n",
        "\n",
        "    # Iniciar perguntas\n",
        "    perguntar(0)\n",
        "\n",
        "# Iniciar a fase 3\n",
        "fase3()\n"
      ],
      "metadata": {
        "colab": {
          "base_uri": "https://localhost:8080/",
          "height": 253,
          "referenced_widgets": [
            "1c9e81631da04fc8b8fe5edd26b58de1",
            "1ff42f3bbf5e4531827a665335654b55",
            "b87902a041e648a6acd7ff7e0e36b932",
            "94c5dab072524045a9409ab2cbb05baa",
            "bbaffd4753484112935ea90b86638f44",
            "90dbc0f3f3dd49d88cdcf3f15293d20f",
            "033596fa02f44ff290147e685d600959",
            "37140b63b65f4fd8928e5bf7fe7b7ee1",
            "d47506a94d9c44998944e61af81a7463"
          ]
        },
        "id": "z7mDyBqP_dgR",
        "outputId": "ae361081-5865-41be-b83f-b9960799385f"
      },
      "execution_count": 13,
      "outputs": [
        {
          "output_type": "display_data",
          "data": {
            "text/plain": [
              "HTML(value='<b>**Pergunta 1:** Qual foi um momento recente em que você se sentiu incompreendido?</b>')"
            ],
            "application/vnd.jupyter.widget-view+json": {
              "version_major": 2,
              "version_minor": 0,
              "model_id": "1c9e81631da04fc8b8fe5edd26b58de1"
            }
          },
          "metadata": {}
        },
        {
          "output_type": "display_data",
          "data": {
            "text/plain": [
              "Textarea(value='', layout=Layout(height='150px', width='100%'), placeholder='Digite sua resposta aqui...')"
            ],
            "application/vnd.jupyter.widget-view+json": {
              "version_major": 2,
              "version_minor": 0,
              "model_id": "94c5dab072524045a9409ab2cbb05baa"
            }
          },
          "metadata": {}
        },
        {
          "output_type": "display_data",
          "data": {
            "text/plain": [
              "Button(description='Enviar', style=ButtonStyle())"
            ],
            "application/vnd.jupyter.widget-view+json": {
              "version_major": 2,
              "version_minor": 0,
              "model_id": "033596fa02f44ff290147e685d600959"
            }
          },
          "metadata": {}
        }
      ]
    },
    {
      "cell_type": "code",
      "source": [
        "# Função para exibir mensagens\n",
        "def exibir_mensagem(mensagem):\n",
        "    print(mensagem)\n",
        "\n",
        "# Fase 4 - Reveladora\n",
        "def fase4():\n",
        "    # Introdução\n",
        "    exibir_mensagem(\"### Fase 4 - Reveladora\")\n",
        "    exibir_mensagem(\"Agora vamos entrar em um momento de revelação profunda, onde a vulnerabilidade e a sinceridade podem transformar o relacionamento.\")\n",
        "\n",
        "    # Perguntas Reveladoras\n",
        "    perguntas_reveladoras = [\n",
        "        \"Qual é o seu maior medo sobre o nosso relacionamento?\",\n",
        "        \"Há algo no nosso relacionamento que você nunca teve coragem de dizer até agora?\",\n",
        "        \"O que você acha que nós dois ainda não conseguimos resolver completamente?\",\n",
        "        \"Quando você pensa no futuro, o que mais te assusta?\",\n",
        "        \"Quais são os seus maiores arrependimentos em relação a nossa história juntos?\"\n",
        "    ]\n",
        "\n",
        "    # Respostas dos Jogadores\n",
        "    respostas_reveladoras = []\n",
        "\n",
        "    # Coletar respostas para as perguntas\n",
        "    for i, pergunta in enumerate(perguntas_reveladoras, start=1):\n",
        "        exibir_mensagem(f\"**Pergunta Reveladora {i}:** {pergunta}\")\n",
        "        resposta = input(\"Sua resposta: \")\n",
        "        respostas_reveladoras.append(resposta)\n",
        "        exibir_mensagem(f\"**Resposta Registrada:** {resposta}\\n\")\n",
        "\n",
        "    # Reflexão sobre as respostas\n",
        "    exibir_mensagem(\"Agora, vamos refletir sobre o que ouvimos. Cada um compartilha algo novo que aprendeu sobre o outro.\")\n",
        "\n",
        "    # Coletar reflexão dos jogadores\n",
        "    exibir_mensagem(\"Jogador 1, o que você aprendeu sobre Jogador 2?\")\n",
        "    reflexao_jogador1 = input(\"Sua reflexão: \")\n",
        "    exibir_mensagem(f\"**Jogador 1 Aprendeu:** {reflexao_jogador1}\")\n",
        "\n",
        "    exibir_mensagem(\"Jogador 2, o que você aprendeu sobre Jogador 1?\")\n",
        "    reflexao_jogador2 = input(\"Sua reflexão: \")\n",
        "    exibir_mensagem(f\"**Jogador 2 Aprendeu:** {reflexao_jogador2}\")\n",
        "\n",
        "    # Finalização com Compromisso\n",
        "    exibir_mensagem(\"\\nAgora, pensem no que estão dispostos a mudar ou fazer juntos para fortalecer a relação.\")\n",
        "    exibir_mensagem(\"Preparem-se para o Acordo Final, onde firmaremos nossos compromissos juntos.\")\n",
        "\n",
        "# Iniciar a fase 4\n",
        "fase4()\n"
      ],
      "metadata": {
        "colab": {
          "base_uri": "https://localhost:8080/"
        },
        "id": "52p4OKhBAj1X",
        "outputId": "a681fbdc-250a-4088-be08-b1e1dc2f16ea"
      },
      "execution_count": 18,
      "outputs": [
        {
          "output_type": "stream",
          "name": "stdout",
          "text": [
            "### Fase 4 - Reveladora\n",
            "Agora vamos entrar em um momento de revelação profunda, onde a vulnerabilidade e a sinceridade podem transformar o relacionamento.\n",
            "**Pergunta Reveladora 1:** Qual é o seu maior medo sobre o nosso relacionamento?\n",
            "Sua resposta: ok\n",
            "**Resposta Registrada:** ok\n",
            "\n",
            "**Pergunta Reveladora 2:** Há algo no nosso relacionamento que você nunca teve coragem de dizer até agora?\n",
            "Sua resposta: foda se\n",
            "**Resposta Registrada:** foda se\n",
            "\n",
            "**Pergunta Reveladora 3:** O que você acha que nós dois ainda não conseguimos resolver completamente?\n",
            "Sua resposta: sexo\n",
            "**Resposta Registrada:** sexo\n",
            "\n",
            "**Pergunta Reveladora 4:** Quando você pensa no futuro, o que mais te assusta?\n",
            "Sua resposta: grana\n",
            "**Resposta Registrada:** grana\n",
            "\n",
            "**Pergunta Reveladora 5:** Quais são os seus maiores arrependimentos em relação a nossa história juntos?\n",
            "Sua resposta: continuar\n",
            "**Resposta Registrada:** continuar\n",
            "\n",
            "Agora, vamos refletir sobre o que ouvimos. Cada um compartilha algo novo que aprendeu sobre o outro.\n",
            "Jogador 1, o que você aprendeu sobre Jogador 2?\n",
            "Sua reflexão: ele é muito bom mas precisa mudar\n",
            "**Jogador 1 Aprendeu:** ele é muito bom mas precisa mudar\n",
            "Jogador 2, o que você aprendeu sobre Jogador 1?\n",
            "Sua reflexão: legal ele\n",
            "**Jogador 2 Aprendeu:** legal ele\n",
            "\n",
            "Agora, pensem no que estão dispostos a mudar ou fazer juntos para fortalecer a relação.\n",
            "Preparem-se para o Acordo Final, onde firmaremos nossos compromissos juntos.\n"
          ]
        }
      ]
    },
    {
      "cell_type": "code",
      "source": [
        "# Função para exibir mensagens de conexão moderna e profunda\n",
        "def exibir_mensagem_conexao(mensagem):\n",
        "    print(f\"\\n{mensagem}\\n\")\n",
        "\n",
        "# Fase 5 - O Acordo Final: Conexão Real\n",
        "def fase5():\n",
        "    # Introdução Moderna\n",
        "    exibir_mensagem_conexao(\"Chegamos ao fim da jornada. Não é sobre promessas de perfeição, mas sobre o compromisso real e a autenticidade.\")\n",
        "    exibir_mensagem_conexao(\"Relações reais são sobre crescer, apoiar e respeitar o outro, mesmo nos momentos difíceis.\")\n",
        "\n",
        "    # Reflexão Real\n",
        "    exibir_mensagem_conexao(\"**Reflexão Real:**\")\n",
        "    exibir_mensagem_conexao(\"O que mudou em você durante esse processo?\")\n",
        "    resposta1 = input(\"Sua resposta: \")\n",
        "    exibir_mensagem_conexao(f\"**Mudança:** {resposta1}\")\n",
        "\n",
        "    exibir_mensagem_conexao(\"Qual foi o momento mais verdadeiro em que você sentiu que a relação estava crescendo?\")\n",
        "    resposta2 = input(\"Sua resposta: \")\n",
        "    exibir_mensagem_conexao(f\"**Momento verdadeiro:** {resposta2}\")\n",
        "\n",
        "    exibir_mensagem_conexao(\"O que você mais admira no outro e por que isso é importante para você?\")\n",
        "    resposta3 = input(\"Sua resposta: \")\n",
        "    exibir_mensagem_conexao(f\"**Admiração:** {resposta3}\")\n",
        "\n",
        "    exibir_mensagem_conexao(\"Que momento marcou você de forma irreversível nessa relação?\")\n",
        "    resposta4 = input(\"Sua resposta: \")\n",
        "    exibir_mensagem_conexao(f\"**Momento marcante:** {resposta4}\")\n",
        "\n",
        "    # Compromisso Pessoal - O Compromisso Real\n",
        "    exibir_mensagem_conexao(\"**Agora, é hora do compromisso real:**\")\n",
        "    exibir_mensagem_conexao(\"Jogador 1, qual compromisso você está disposto a assumir?\")\n",
        "    compromisso1 = input(\"Sua resposta: \")\n",
        "    exibir_mensagem_conexao(f\"**Jogador 1 Compromisso:** {compromisso1}\")\n",
        "\n",
        "    exibir_mensagem_conexao(\"Jogador 2, o que você está disposto a fazer para fortalecer essa relação?\")\n",
        "    compromisso2 = input(\"Sua resposta: \")\n",
        "    exibir_mensagem_conexao(f\"**Jogador 2 Compromisso:** {compromisso2}\")\n",
        "\n",
        "    # Compromisso Mútuo - Respeito e Crescimento\n",
        "    exibir_mensagem_conexao(\"**Agora, o compromisso mútuo:**\")\n",
        "    compromisso_mutuo = input(\"Compromisso Mútuo: \")\n",
        "    exibir_mensagem_conexao(f\"**Compromisso Mútuo:** {compromisso_mutuo}\")\n",
        "\n",
        "    # Silêncio Conectivo\n",
        "    exibir_mensagem_conexao(\"Agora, vamos ter um momento de silêncio. Respirem e se conectem com o que foi compartilhado.\")\n",
        "    input(\"Pressione Enter quando estiver pronto para continuar...\")\n",
        "\n",
        "    # O Acordo Final - Conexão e Autenticidade\n",
        "    exibir_mensagem_conexao(\"Agora, vamos ao compromisso final, aquele que é baseado na verdadeira conexão.\")\n",
        "    exibir_mensagem_conexao(\"Compromissos finais: O que você está disposto a prometer a partir de agora?\")\n",
        "    compromisso_final = input(\"Sua Promessa Final: \")\n",
        "    exibir_mensagem_conexao(f\"**Sua Promessa Final:** {compromisso_final}\")\n",
        "\n",
        "    exibir_mensagem_conexao(\"Essa não é uma promessa de 'felizes para sempre', mas uma promessa de que vocês vão continuar crescendo juntos, respeitando um ao outro.\")\n",
        "\n",
        "    # Encerramento\n",
        "    exibir_mensagem_conexao(\"O que importa é o real compromisso de estarmos presentes, de evoluirmos juntos. Isso é o que faz a diferença em uma relação verdadeira.\")\n",
        "\n",
        "# Iniciar a fase 5\n",
        "fase5()\n"
      ],
      "metadata": {
        "colab": {
          "base_uri": "https://localhost:8080/"
        },
        "id": "jGdQ4NtuAnKW",
        "outputId": "09e3c3c3-4ae6-4dbb-e89a-201568581fc2"
      },
      "execution_count": 19,
      "outputs": [
        {
          "output_type": "stream",
          "name": "stdout",
          "text": [
            "\n",
            "Chegamos ao fim da jornada. Não é sobre promessas de perfeição, mas sobre o compromisso real e a autenticidade.\n",
            "\n",
            "\n",
            "Relações reais são sobre crescer, apoiar e respeitar o outro, mesmo nos momentos difíceis.\n",
            "\n",
            "\n",
            "**Reflexão Real:**\n",
            "\n",
            "\n",
            "O que mudou em você durante esse processo?\n",
            "\n",
            "Sua resposta: caramba tudo muito novo\n",
            "\n",
            "**Mudança:** caramba tudo muito novo\n",
            "\n",
            "\n",
            "Qual foi o momento mais verdadeiro em que você sentiu que a relação estava crescendo?\n",
            "\n",
            "Sua resposta: ontem\n",
            "\n",
            "**Momento verdadeiro:** ontem\n",
            "\n",
            "\n",
            "O que você mais admira no outro e por que isso é importante para você?\n",
            "\n",
            "Sua resposta: bota\n",
            "\n",
            "**Admiração:** bota\n",
            "\n",
            "\n",
            "Que momento marcou você de forma irreversível nessa relação?\n",
            "\n",
            "Sua resposta: 13\n",
            "\n",
            "**Momento marcante:** 13\n",
            "\n",
            "\n",
            "**Agora, é hora do compromisso real:**\n",
            "\n",
            "\n",
            "Jogador 1, qual compromisso você está disposto a assumir?\n",
            "\n",
            "Sua resposta: total\n",
            "\n",
            "**Jogador 1 Compromisso:** total\n",
            "\n",
            "\n",
            "Jogador 2, o que você está disposto a fazer para fortalecer essa relação?\n",
            "\n",
            "Sua resposta: tudo\n",
            "\n",
            "**Jogador 2 Compromisso:** tudo\n",
            "\n",
            "\n",
            "**Agora, o compromisso mútuo:**\n",
            "\n",
            "Compromisso Mútuo: ok\n",
            "\n",
            "**Compromisso Mútuo:** ok\n",
            "\n",
            "\n",
            "Agora, vamos ter um momento de silêncio. Respirem e se conectem com o que foi compartilhado.\n",
            "\n",
            "Pressione Enter quando estiver pronto para continuar...ok\n",
            "\n",
            "Agora, vamos ao compromisso final, aquele que é baseado na verdadeira conexão.\n",
            "\n",
            "\n",
            "Compromissos finais: O que você está disposto a prometer a partir de agora?\n",
            "\n",
            "Sua Promessa Final: quer namorar?\n",
            "\n",
            "**Sua Promessa Final:** quer namorar?\n",
            "\n",
            "\n",
            "Essa não é uma promessa de 'felizes para sempre', mas uma promessa de que vocês vão continuar crescendo juntos, respeitando um ao outro.\n",
            "\n",
            "\n",
            "O que importa é o real compromisso de estarmos presentes, de evoluirmos juntos. Isso é o que faz a diferença em uma relação verdadeira.\n",
            "\n"
          ]
        }
      ]
    }
  ]
}